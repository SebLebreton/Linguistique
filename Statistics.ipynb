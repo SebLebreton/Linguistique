{
 "cells": [
  {
   "cell_type": "code",
   "execution_count": 8,
   "id": "003087a4",
   "metadata": {},
   "outputs": [],
   "source": [
    "import pandas as pd\n",
    "import numpy as np\n"
   ]
  },
  {
   "cell_type": "code",
   "execution_count": 9,
   "id": "8a6370c2",
   "metadata": {},
   "outputs": [
    {
     "data": {
      "text/html": [
       "<div>\n",
       "<style scoped>\n",
       "    .dataframe tbody tr th:only-of-type {\n",
       "        vertical-align: middle;\n",
       "    }\n",
       "\n",
       "    .dataframe tbody tr th {\n",
       "        vertical-align: top;\n",
       "    }\n",
       "\n",
       "    .dataframe thead th {\n",
       "        text-align: right;\n",
       "    }\n",
       "</style>\n",
       "<table border=\"1\" class=\"dataframe\">\n",
       "  <thead>\n",
       "    <tr style=\"text-align: right;\">\n",
       "      <th></th>\n",
       "      <th>Eleve_ID</th>\n",
       "      <th>classe</th>\n",
       "      <th>genre</th>\n",
       "      <th>personnages</th>\n",
       "      <th>texte</th>\n",
       "      <th>texte_extrait</th>\n",
       "      <th>texte_nettoye</th>\n",
       "      <th>nb_mots</th>\n",
       "      <th>texte_lemmatise</th>\n",
       "      <th>nb_mots_uniques</th>\n",
       "      <th>TTR</th>\n",
       "      <th>texte_sans_stopwords</th>\n",
       "      <th>top_20_mots</th>\n",
       "    </tr>\n",
       "  </thead>\n",
       "  <tbody>\n",
       "    <tr>\n",
       "      <th>0</th>\n",
       "      <td>ID_0001</td>\n",
       "      <td>1</td>\n",
       "      <td>0</td>\n",
       "      <td>21</td>\n",
       "      <td>Textes/0001.docx</td>\n",
       "      <td>Deux enfants s’amusent à la mer sur un petit b...</td>\n",
       "      <td>Il est trop tard…\\nIls ont chacun espoir de se...</td>\n",
       "      <td>240</td>\n",
       "      <td>il être trop tard il avoir chacun espoir de se...</td>\n",
       "      <td>120</td>\n",
       "      <td>0.500000</td>\n",
       "      <td>être trop tard avoir chacun espoir rapprocher ...</td>\n",
       "      <td>['le', 'il', 'de', 'à', 'et', 'un', 'plus', 'ê...</td>\n",
       "    </tr>\n",
       "    <tr>\n",
       "      <th>1</th>\n",
       "      <td>ID_0002</td>\n",
       "      <td>1</td>\n",
       "      <td>0</td>\n",
       "      <td>11</td>\n",
       "      <td>Textes/0002.docx</td>\n",
       "      <td>Deux enfants s’amusent à la mer sur un petit b...</td>\n",
       "      <td>Il est déjà trop tard, Pierre et Maxime sont a...</td>\n",
       "      <td>181</td>\n",
       "      <td>il être déjà trop tard Pierre et Maxime être à...</td>\n",
       "      <td>101</td>\n",
       "      <td>0.558011</td>\n",
       "      <td>être déjà trop tard Pierre Maxime être large m...</td>\n",
       "      <td>['le', 'il', 'de', 'un', 'et', 'être', 'son', ...</td>\n",
       "    </tr>\n",
       "    <tr>\n",
       "      <th>2</th>\n",
       "      <td>ID_0003</td>\n",
       "      <td>1</td>\n",
       "      <td>0</td>\n",
       "      <td>11</td>\n",
       "      <td>Textes/0003.docx</td>\n",
       "      <td>Deux enfants s’amusent à la mer sur un petit b...</td>\n",
       "      <td>Il est déjà trop tard pour se rapprocher du ri...</td>\n",
       "      <td>360</td>\n",
       "      <td>il être déjà trop tard pour se rapprocher de r...</td>\n",
       "      <td>147</td>\n",
       "      <td>0.408333</td>\n",
       "      <td>être déjà trop tard rapprocher rivage alors de...</td>\n",
       "      <td>['le', 'il', 'un', 'et', 'de', 'à', 'enfant', ...</td>\n",
       "    </tr>\n",
       "    <tr>\n",
       "      <th>3</th>\n",
       "      <td>ID_0004</td>\n",
       "      <td>1</td>\n",
       "      <td>0</td>\n",
       "      <td>0</td>\n",
       "      <td>Textes/0004.docx</td>\n",
       "      <td>Deux enfants s’amusent à la mer sur un petit b...</td>\n",
       "      <td>Ils est déjà trop tard le bateau est trop loin...</td>\n",
       "      <td>152</td>\n",
       "      <td>il être déjà trop tard le bateau être trop loi...</td>\n",
       "      <td>82</td>\n",
       "      <td>0.539474</td>\n",
       "      <td>être déjà trop tard bateau être trop loin riva...</td>\n",
       "      <td>['être', 'le', 'un', 'il', 'enfant', 'de', 'qu...</td>\n",
       "    </tr>\n",
       "    <tr>\n",
       "      <th>4</th>\n",
       "      <td>ID_0005</td>\n",
       "      <td>1</td>\n",
       "      <td>0</td>\n",
       "      <td>11</td>\n",
       "      <td>Textes/0005.docx</td>\n",
       "      <td>Deux enfants s’amusent à la mer sur un petit b...</td>\n",
       "      <td>Deux enfants s’amusent à la mer sur un petit b...</td>\n",
       "      <td>212</td>\n",
       "      <td>Deux enfant amusent à le mer sur un petit bate...</td>\n",
       "      <td>106</td>\n",
       "      <td>0.500000</td>\n",
       "      <td>Deux enfant amusent mer petit bateau être expl...</td>\n",
       "      <td>['le', 'il', 'un', 'de', 'et', 'Michel', 'à', ...</td>\n",
       "    </tr>\n",
       "  </tbody>\n",
       "</table>\n",
       "</div>"
      ],
      "text/plain": [
       "  Eleve_ID  classe  genre  personnages             texte  \\\n",
       "0  ID_0001       1      0           21  Textes/0001.docx   \n",
       "1  ID_0002       1      0           11  Textes/0002.docx   \n",
       "2  ID_0003       1      0           11  Textes/0003.docx   \n",
       "3  ID_0004       1      0            0  Textes/0004.docx   \n",
       "4  ID_0005       1      0           11  Textes/0005.docx   \n",
       "\n",
       "                                       texte_extrait  \\\n",
       "0  Deux enfants s’amusent à la mer sur un petit b...   \n",
       "1  Deux enfants s’amusent à la mer sur un petit b...   \n",
       "2  Deux enfants s’amusent à la mer sur un petit b...   \n",
       "3  Deux enfants s’amusent à la mer sur un petit b...   \n",
       "4  Deux enfants s’amusent à la mer sur un petit b...   \n",
       "\n",
       "                                       texte_nettoye  nb_mots  \\\n",
       "0  Il est trop tard…\\nIls ont chacun espoir de se...      240   \n",
       "1  Il est déjà trop tard, Pierre et Maxime sont a...      181   \n",
       "2  Il est déjà trop tard pour se rapprocher du ri...      360   \n",
       "3  Ils est déjà trop tard le bateau est trop loin...      152   \n",
       "4  Deux enfants s’amusent à la mer sur un petit b...      212   \n",
       "\n",
       "                                     texte_lemmatise  nb_mots_uniques  \\\n",
       "0  il être trop tard il avoir chacun espoir de se...              120   \n",
       "1  il être déjà trop tard Pierre et Maxime être à...              101   \n",
       "2  il être déjà trop tard pour se rapprocher de r...              147   \n",
       "3  il être déjà trop tard le bateau être trop loi...               82   \n",
       "4  Deux enfant amusent à le mer sur un petit bate...              106   \n",
       "\n",
       "        TTR                               texte_sans_stopwords  \\\n",
       "0  0.500000  être trop tard avoir chacun espoir rapprocher ...   \n",
       "1  0.558011  être déjà trop tard Pierre Maxime être large m...   \n",
       "2  0.408333  être déjà trop tard rapprocher rivage alors de...   \n",
       "3  0.539474  être déjà trop tard bateau être trop loin riva...   \n",
       "4  0.500000  Deux enfant amusent mer petit bateau être expl...   \n",
       "\n",
       "                                         top_20_mots  \n",
       "0  ['le', 'il', 'de', 'à', 'et', 'un', 'plus', 'ê...  \n",
       "1  ['le', 'il', 'de', 'un', 'et', 'être', 'son', ...  \n",
       "2  ['le', 'il', 'un', 'et', 'de', 'à', 'enfant', ...  \n",
       "3  ['être', 'le', 'un', 'il', 'enfant', 'de', 'qu...  \n",
       "4  ['le', 'il', 'un', 'de', 'et', 'Michel', 'à', ...  "
      ]
     },
     "execution_count": 9,
     "metadata": {},
     "output_type": "execute_result"
    }
   ],
   "source": [
    "df = pd.read_csv('Data_linguistique/Data_analyse.csv')\n",
    "df.head()"
   ]
  },
  {
   "cell_type": "code",
   "execution_count": 10,
   "id": "5d743a3e",
   "metadata": {},
   "outputs": [
    {
     "name": "stdout",
     "output_type": "stream",
     "text": [
      "U-: 458.0, p-value: 0.3815066757828711\n"
     ]
    }
   ],
   "source": [
    "import scipy.stats as stats\n",
    "\n",
    "# Tests de Mann-Whitney U pour comparer les distributions de 'nb_mots' entre les genres 0 et 1\n",
    "\n",
    "nb_mots_genre_0 = df[df['genre'] == 0]['nb_mots']\n",
    "nb_mots_genre_1 = df[df['genre'] == 1]['nb_mots']\n",
    "\n",
    "u_stat, p_value = stats.mannwhitneyu(nb_mots_genre_0, nb_mots_genre_1, alternative='two-sided')\n",
    "print(f\"U-: {u_stat}, p-value: {p_value}\")"
   ]
  },
  {
   "cell_type": "code",
   "execution_count": 11,
   "id": "e9e18b48",
   "metadata": {},
   "outputs": [
    {
     "name": "stdout",
     "output_type": "stream",
     "text": [
      "U-: 449.0, p-value: 0.3203835848865272\n"
     ]
    }
   ],
   "source": [
    "nb_mots_uniques_genre_0 = df[df['genre'] == 0]['nb_mots_uniques']\n",
    "nb_mots_uniques_genre_1 = df[df['genre'] == 1]['nb_mots_uniques']\n",
    "\n",
    "u_stat, p_value = stats.mannwhitneyu(nb_mots_uniques_genre_0, nb_mots_uniques_genre_1, alternative='two-sided')\n",
    "print(f\"U-: {u_stat}, p-value: {p_value}\")"
   ]
  },
  {
   "cell_type": "code",
   "execution_count": 12,
   "id": "87084217",
   "metadata": {},
   "outputs": [
    {
     "name": "stdout",
     "output_type": "stream",
     "text": [
      "U-: 585.0, p-value: 0.43362902663936187\n"
     ]
    }
   ],
   "source": [
    "TTR_genre_0 = df[df['genre'] == 0]['TTR']\n",
    "TTR_genre_1 = df[df['genre'] == 1]['TTR']\n",
    "\n",
    "u_stat, p_value = stats.mannwhitneyu(TTR_genre_0, TTR_genre_1, alternative='two-sided')\n",
    "print(f\"U-: {u_stat}, p-value: {p_value}\")"
   ]
  },
  {
   "cell_type": "code",
   "execution_count": 13,
   "id": "e30fcf0b",
   "metadata": {},
   "outputs": [
    {
     "name": "stdout",
     "output_type": "stream",
     "text": [
      "personnages  0   10  11  21  22\n",
      "genre                          \n",
      "0             9   1  19   6   0\n",
      "1             1   1   5  19   4\n",
      "Chi2ContingencyResult(statistic=25.09051587301587, pvalue=4.8244852576593716e-05, dof=4, expected_freq=array([[ 5.38461538,  1.07692308, 12.92307692, 13.46153846,  2.15384615],\n",
      "       [ 4.61538462,  0.92307692, 11.07692308, 11.53846154,  1.84615385]]))\n"
     ]
    }
   ],
   "source": [
    "from scipy.stats import chi2_contingency\n",
    "\n",
    "\n",
    "table = pd.crosstab(df['genre'],df['personnages'])\n",
    "print(table)\n",
    "\n",
    "chi = chi2_contingency(table)\n",
    "\n",
    "print(chi)"
   ]
  }
 ],
 "metadata": {
  "kernelspec": {
   "display_name": "linguistique",
   "language": "python",
   "name": "python3"
  },
  "language_info": {
   "codemirror_mode": {
    "name": "ipython",
    "version": 3
   },
   "file_extension": ".py",
   "mimetype": "text/x-python",
   "name": "python",
   "nbconvert_exporter": "python",
   "pygments_lexer": "ipython3",
   "version": "3.9.23"
  }
 },
 "nbformat": 4,
 "nbformat_minor": 5
}
